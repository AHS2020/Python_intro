{
 "cells": [
  {
   "cell_type": "markdown",
   "metadata": {},
   "source": [
    "# Listas (continuação)\n",
    "\n",
    "Na aula passada, vimos que listas são coleções de ordenadas sequenciais de valores. Vimos:\n",
    "* como criar listas,\n",
    "* como acessar elementos de uma lista,\n",
    "* comprimento de uma lista,\n",
    "* listas são **mutáveis**, \n",
    "* ***fatias*** de lista\n",
    "* métodos de lista\n",
    "\n",
    "\n",
    "Hoje veremos:\n",
    "\n",
    "* referências a listas\n",
    "* **clonagem** de listas\n",
    "* listas como parâmetro de funções\n",
    "* funções **puras** e **modificadores**\n",
    "\n",
    "\n",
    "## Objetos e referências\n",
    "\n",
    "Se executarmos os seguintes comandos:"
   ]
  },
  {
   "cell_type": "code",
   "execution_count": 1,
   "metadata": {},
   "outputs": [],
   "source": [
    "a = \"banana\"\n",
    "b = \"banana\""
   ]
  },
  {
   "cell_type": "markdown",
   "metadata": {},
   "source": [
    "Sabemos que ***a*** e ***b*** se referirão a uma ***string*** mas não sabemos se eles apontam para o mesmo objeto de Python.\n",
    "\n",
    "O interpretador pode organizar sua memória de duas maneiras:\n",
    "\n",
    "* referir ***a*** e ***b*** a dois objetos distintos com os mesmos valores\n",
    "* referir ***a*** e ***b*** ao mesmo objeto\n",
    "\n",
    "![refstring](pics/ref_string.png)"
   ]
  },
  {
   "cell_type": "markdown",
   "metadata": {},
   "source": [
    "Podemos testar se duas variáveis se referem ao mesmo objeto:"
   ]
  },
  {
   "cell_type": "code",
   "execution_count": 2,
   "metadata": {},
   "outputs": [
    {
     "data": {
      "text/plain": [
       "True"
      ]
     },
     "execution_count": 2,
     "metadata": {},
     "output_type": "execute_result"
    }
   ],
   "source": [
    "a is b"
   ]
  },
  {
   "cell_type": "markdown",
   "metadata": {},
   "source": [
    "Para o nosso exemplo acima, o interpretador de Python referencia ambos ***a*** e ***b*** para o mesmo objeto.\n",
    "\n",
    "Como ***strings*** são ***imutáveis***, o Python otimiza os recursos referenciando as duas varáiveis ao mesmo objeto.\n",
    "\n",
    "Não pe o que acontece com listas:"
   ]
  },
  {
   "cell_type": "code",
   "execution_count": 4,
   "metadata": {},
   "outputs": [
    {
     "data": {
      "text/plain": [
       "True"
      ]
     },
     "execution_count": 4,
     "metadata": {},
     "output_type": "execute_result"
    }
   ],
   "source": [
    "a = [1, 2, 3]\n",
    "b = [1, 2, 3]\n",
    "a == b"
   ]
  },
  {
   "cell_type": "code",
   "execution_count": 5,
   "metadata": {},
   "outputs": [
    {
     "data": {
      "text/plain": [
       "False"
      ]
     },
     "execution_count": 5,
     "metadata": {},
     "output_type": "execute_result"
    }
   ],
   "source": [
    "a is b"
   ]
  },
  {
   "cell_type": "markdown",
   "metadata": {},
   "source": [
    "Nesse caso, ***a*** e ***b*** têm o mesmo valor mas não se referem ao mesmo objeto.\n",
    "\n",
    "![refstring](pics/ref_list.png)"
   ]
  },
  {
   "cell_type": "markdown",
   "metadata": {},
   "source": [
    "## Alias\n",
    "\n",
    "Podemos forçar ***a*** e ***b*** a se referirem ao mesmo objeto. Com isso, criamos um **alias**."
   ]
  },
  {
   "cell_type": "code",
   "execution_count": 10,
   "metadata": {},
   "outputs": [
    {
     "data": {
      "text/plain": [
       "False"
      ]
     },
     "execution_count": 10,
     "metadata": {},
     "output_type": "execute_result"
    }
   ],
   "source": [
    "a = [4, 5, 6]\n",
    "b = [4, 5, 6]\n",
    "a is b"
   ]
  },
  {
   "cell_type": "code",
   "execution_count": 11,
   "metadata": {},
   "outputs": [
    {
     "data": {
      "text/plain": [
       "True"
      ]
     },
     "execution_count": 11,
     "metadata": {},
     "output_type": "execute_result"
    }
   ],
   "source": [
    "a = b\n",
    "a is b"
   ]
  },
  {
   "cell_type": "code",
   "execution_count": 12,
   "metadata": {},
   "outputs": [
    {
     "name": "stdout",
     "output_type": "stream",
     "text": [
      "a =  [4, 5, 6, 88] , b =  [4, 5, 6, 88]\n"
     ]
    }
   ],
   "source": [
    "a.append(88)\n",
    "print('a = ', a, ', b = ', b)"
   ]
  },
  {
   "cell_type": "markdown",
   "metadata": {},
   "source": [
    "### O que aconteceu???\n",
    "\n",
    "![difflists](pics/diff_lists.png)\n",
    "![samelists](pics/same_lists.png)\n",
    "\n",
    "\n",
    "### Recomendações em relação a **aliases**:\n",
    "Em geral, é mais seguro evitar fazer um **alias** de objetos **mutáveis**, como listas. Para objetos **imutáveis**, como strings, não há restrições de se fazer **aliases**."
   ]
  },
  {
   "cell_type": "markdown",
   "metadata": {},
   "source": [
    "## Clonagem de listas\n",
    "\n",
    "Se quisermos modificar uma lista e ao mesmo tempo mantermos uma cópia inalterada dessa lista, devemos **cloná-la**:"
   ]
  },
  {
   "cell_type": "code",
   "execution_count": 19,
   "metadata": {},
   "outputs": [
    {
     "data": {
      "text/plain": [
       "[1, 2, 3]"
      ]
     },
     "execution_count": 19,
     "metadata": {},
     "output_type": "execute_result"
    }
   ],
   "source": [
    "lista = [1, 2, 3]\n",
    "clone_lista = lista[:]\n",
    "clone_lista"
   ]
  },
  {
   "cell_type": "markdown",
   "metadata": {},
   "source": [
    "Podemos então criar uma nova lista ao tomar uma **fatia** de **toda a lista**.\n",
    "\n",
    "![reflist](pics/ref_list.png)\n",
    "\n",
    "\n",
    "E agora, como cada uma das lista é uma referência a um objeto diferente, podemos modificar uma variável, sem modificar a outra:"
   ]
  },
  {
   "cell_type": "code",
   "execution_count": 21,
   "metadata": {},
   "outputs": [
    {
     "name": "stdout",
     "output_type": "stream",
     "text": [
      "a:  [1, 2, 3, 88] , b:  [1, 2, 3]\n",
      "a:  [1, 2, 3, 88] , b:  [1, 2, 199]\n"
     ]
    }
   ],
   "source": [
    "a = [1, 2, 3]\n",
    "b = a[:]\n",
    "a.append(88)\n",
    "print ('a: ', a, ', b: ', b)\n",
    "\n",
    "b[2] = 199\n",
    "print ('a: ', a, ', b: ', b)"
   ]
  },
  {
   "cell_type": "markdown",
   "metadata": {},
   "source": [
    "## Listas e loops ***for***\n",
    "\n",
    "Suponha que temos duas listas. Se elas forem de tamanhos iguais, queremos imprimir seus valores em um único loop."
   ]
  },
  {
   "cell_type": "code",
   "execution_count": 26,
   "metadata": {},
   "outputs": [
    {
     "data": {
      "text/plain": [
       "True"
      ]
     },
     "execution_count": 26,
     "metadata": {},
     "output_type": "execute_result"
    }
   ],
   "source": [
    "lista1 = [1,3,5,7,9,11,13,15]\n",
    "lista2 = [2,4,6,8,10,12,14,16]\n",
    "\n",
    "# as listas têm o mesmo tamanho?\n",
    "len(lista1) == len(lista2)"
   ]
  },
  {
   "cell_type": "code",
   "execution_count": 27,
   "metadata": {},
   "outputs": [
    {
     "name": "stdout",
     "output_type": "stream",
     "text": [
      "range(0, 8)\n",
      "1\n",
      "2\n",
      "3\n",
      "4\n",
      "5\n",
      "6\n",
      "7\n",
      "8\n",
      "9\n",
      "10\n",
      "11\n",
      "12\n",
      "13\n",
      "14\n",
      "15\n",
      "16\n"
     ]
    }
   ],
   "source": [
    "# se as listas têm o mesmo número de elementos, imprima todos os elementos de cada uma das listas\n",
    "if (len(lista1) == len(lista2)):\n",
    "    print(range(len(lista1)))\n",
    "    for i in range(len(lista1)):\n",
    "        print(lista1[i])\n",
    "        print(lista2[i])"
   ]
  },
  {
   "cell_type": "code",
   "execution_count": 29,
   "metadata": {},
   "outputs": [
    {
     "name": "stdout",
     "output_type": "stream",
     "text": [
      "Ana  tem  16  anos\n",
      "Luiz  tem  18  anos\n",
      "Maria  tem  17  anos\n",
      "Joana  tem  19  anos\n"
     ]
    }
   ],
   "source": [
    "alunos = ['Ana', 'Luiz', 'Maria', 'Joana']\n",
    "idades = [16, 18, 17, 19]\n",
    "\n",
    "if (len(alunos)==len(idades)):\n",
    "    for (i, valor) in enumerate(alunos):\n",
    "        print(valor, ' tem ', idades[i], ' anos')"
   ]
  },
  {
   "cell_type": "markdown",
   "metadata": {},
   "source": [
    "a função **enumerate** é uma função ***built-in*** do Python. Ela gera pares de (índice, valor) da lista ao atravessá-la."
   ]
  },
  {
   "cell_type": "code",
   "execution_count": 31,
   "metadata": {},
   "outputs": [
    {
     "name": "stdout",
     "output_type": "stream",
     "text": [
      "0 Ana\n",
      "1 Luiz\n",
      "2 Maria\n",
      "3 Joana\n"
     ]
    }
   ],
   "source": [
    "for (i, valor) in enumerate(alunos):\n",
    "    print(i, valor)"
   ]
  },
  {
   "cell_type": "markdown",
   "metadata": {},
   "source": [
    "## Métodos de listas\n",
    "\n",
    "As listas são um tipo de dados de python. Sendo assim têm métodos (funções) associadas a elas, que são acessadas através do ponto:"
   ]
  },
  {
   "cell_type": "code",
   "execution_count": 36,
   "metadata": {},
   "outputs": [
    {
     "data": {
      "text/plain": [
       "[5, 27, 3, 12]"
      ]
     },
     "execution_count": 36,
     "metadata": {},
     "output_type": "execute_result"
    }
   ],
   "source": [
    "mylist = []\n",
    "mylist.append(5)\n",
    "mylist.append(27)\n",
    "mylist.append(3)\n",
    "mylist.append(12)\n",
    "mylist"
   ]
  },
  {
   "cell_type": "code",
   "execution_count": 37,
   "metadata": {},
   "outputs": [
    {
     "data": {
      "text/plain": [
       "[5, 12, 27, 3, 12]"
      ]
     },
     "execution_count": 37,
     "metadata": {},
     "output_type": "execute_result"
    }
   ],
   "source": [
    "mylist.insert(1, 12) # insere o item 12 na posição 1. Todos os outros itens da lista são desolcados para cima.\n",
    "mylist"
   ]
  },
  {
   "cell_type": "code",
   "execution_count": 38,
   "metadata": {},
   "outputs": [
    {
     "data": {
      "text/plain": [
       "2"
      ]
     },
     "execution_count": 38,
     "metadata": {},
     "output_type": "execute_result"
    }
   ],
   "source": [
    "mylist.count(12) # conta quantas vezes o valor 12 aparece na lista"
   ]
  },
  {
   "cell_type": "code",
   "execution_count": 39,
   "metadata": {},
   "outputs": [
    {
     "data": {
      "text/plain": [
       "[5, 12, 27, 3, 12, 5, 9, 5, 11]"
      ]
     },
     "execution_count": 39,
     "metadata": {},
     "output_type": "execute_result"
    }
   ],
   "source": [
    "mylist.extend([5, 9, 5, 11])  # coloca toda a lista do argumento no final da lista mylist\n",
    "mylist"
   ]
  },
  {
   "cell_type": "code",
   "execution_count": 40,
   "metadata": {},
   "outputs": [
    {
     "data": {
      "text/plain": [
       "6"
      ]
     },
     "execution_count": 40,
     "metadata": {},
     "output_type": "execute_result"
    }
   ],
   "source": [
    "mylist.index(9) # encontra o índice do primeiro valor 9 de mylist"
   ]
  },
  {
   "cell_type": "code",
   "execution_count": 45,
   "metadata": {},
   "outputs": [
    {
     "data": {
      "text/plain": [
       "[11, 5, 9, 5, 12, 3, 27, 12, 5]"
      ]
     },
     "execution_count": 45,
     "metadata": {},
     "output_type": "execute_result"
    }
   ],
   "source": [
    "mylist.reverse() # reverte todos os objetos de mylist\n",
    "mylist"
   ]
  },
  {
   "cell_type": "code",
   "execution_count": 46,
   "metadata": {},
   "outputs": [
    {
     "data": {
      "text/plain": [
       "[3, 5, 5, 5, 9, 11, 12, 12, 27]"
      ]
     },
     "execution_count": 46,
     "metadata": {},
     "output_type": "execute_result"
    }
   ],
   "source": [
    "mylist.sort()  # ordena os valores de uma lista\n",
    "mylist"
   ]
  },
  {
   "cell_type": "code",
   "execution_count": 47,
   "metadata": {},
   "outputs": [
    {
     "data": {
      "text/plain": [
       "[3, 5, 5, 5, 9, 11, 12, 27]"
      ]
     },
     "execution_count": 47,
     "metadata": {},
     "output_type": "execute_result"
    }
   ],
   "source": [
    "mylist.remove(12)  # remove o primeiro elemento de valor 12 de mylist\n",
    "mylist"
   ]
  },
  {
   "cell_type": "markdown",
   "metadata": {},
   "source": [
    "## Strings e listas\n",
    "\n",
    "Dois dos métodos mais úteis em ***strings*** envolvem conversão de ***strings*** para ***listas*** de substrings e vice-versa. \n",
    "\n",
    "\n",
    "O método ***split*** divide uma ***string*** em uma ***lista*** de palavras. O padrão é considerar caracteres de espaço em branco como **delimitador** de palavras:"
   ]
  },
  {
   "cell_type": "code",
   "execution_count": 50,
   "metadata": {},
   "outputs": [
    {
     "data": {
      "text/plain": [
       "['O', 'sol', 'há', 'de', 'brilhar', 'mais', 'uma', 'vez']"
      ]
     },
     "execution_count": 50,
     "metadata": {},
     "output_type": "execute_result"
    }
   ],
   "source": [
    "musica = \"O sol há de brilhar mais uma vez\"\n",
    "palavras = musica.split()\n",
    "palavras"
   ]
  },
  {
   "cell_type": "markdown",
   "metadata": {},
   "source": [
    "Podemos especificar um **delimitador**. Por exemplo, podemos escolher a letra 'a' como **delimitador**, no lugar do padrão."
   ]
  },
  {
   "cell_type": "code",
   "execution_count": 64,
   "metadata": {},
   "outputs": [
    {
     "data": {
      "text/plain": [
       "['o sol há de brilh', 'r m', 'is um', ' vez']"
      ]
     },
     "execution_count": 64,
     "metadata": {},
     "output_type": "execute_result"
    }
   ],
   "source": [
    "palavras = musica.split('a')\n",
    "palavras"
   ]
  },
  {
   "cell_type": "markdown",
   "metadata": {},
   "source": [
    "O inverso do método ***split*** é o ***join***. Para juntar as strings, escolhemos um **separador** como parâmetro."
   ]
  },
  {
   "cell_type": "code",
   "execution_count": 66,
   "metadata": {},
   "outputs": [
    {
     "data": {
      "text/plain": [
       "'o sol há de brilhar mais uma vez'"
      ]
     },
     "execution_count": 66,
     "metadata": {},
     "output_type": "execute_result"
    }
   ],
   "source": [
    "cola = 'a'\n",
    "palavras_coladas = cola.join(palavras)\n",
    "palavras_coladas"
   ]
  },
  {
   "cell_type": "markdown",
   "metadata": {},
   "source": [
    "## Exercícios\n",
    "\n",
    "1) Considere a função abaixo. Esse tipo de função é considerada uma função **modificadora** pois modifica o objeto que é passado como argumento. "
   ]
  },
  {
   "cell_type": "code",
   "execution_count": 17,
   "metadata": {},
   "outputs": [
    {
     "name": "stdout",
     "output_type": "stream",
     "text": [
      "[2, 4, 6]\n",
      "[4, 8, 12]\n"
     ]
    }
   ],
   "source": [
    "def dobrar_elementos(uma_lista):\n",
    "    \"\"\" Reescreve os elementos de uma_lista com o dobro de seus valores originais.\n",
    "    \"\"\"\n",
    "    for (i, valor) in enumerate(uma_lista):\n",
    "        novo_elem = 2 * valor\n",
    "        uma_lista[i] = novo_elem\n",
    "\n",
    "    return uma_lista\n",
    "\n",
    "minha_lista = [2, 4, 6]\n",
    "print(minha_lista)\n",
    "dobrar_elementos(minha_lista)\n",
    "print(minha_lista)"
   ]
  },
  {
   "cell_type": "markdown",
   "metadata": {},
   "source": [
    "a) Modifique a função para retornar uma **nova lista**, sem modificar a lista usada como parâmetro. Esse tipo de função é chamado de **função pura**.\n",
    "\n",
    "\n",
    "b) Modifique a documentação de ajuda da nova função, de tal forma que quando se chame a função ***help*** da nova função, se obtenha a descrição adequada."
   ]
  },
  {
   "cell_type": "code",
   "execution_count": 18,
   "metadata": {},
   "outputs": [
    {
     "name": "stdout",
     "output_type": "stream",
     "text": [
      "Help on function dobrar_elementos in module __main__:\n",
      "\n",
      "dobrar_elementos(uma_lista)\n",
      "    Reescreve os elementos de uma_lista com o dobro de seus valores originais.\n",
      "\n"
     ]
    }
   ],
   "source": [
    "help(dobrar_elementos)"
   ]
  },
  {
   "cell_type": "markdown",
   "metadata": {},
   "source": [
    "2) Crie uma lista com números sequenciais com incrementos de uma unidade, de 1 até 10000. ***Dica***: use a função ***range***."
   ]
  },
  {
   "cell_type": "markdown",
   "metadata": {},
   "source": [
    "3) Escreva uma função que, dado um número ***n***, encontre o primeiro inteiro positivo entre 101 e menor que ***n***, que seja divisível por 21. ***Dica***: use a função ***range***."
   ]
  },
  {
   "cell_type": "markdown",
   "metadata": {},
   "source": [
    "4) Represente a matriz \\eta abaixo em Python e acesse o elemento de matriz \\eta_{33} (linha 3, coluna 3). ***Dica***: use uma lista de listas!"
   ]
  },
  {
   "attachments": {
    "image.png": {
     "image/png": "[encoded data removed]"
    }
   },
   "cell_type": "markdown",
   "metadata": {},
   "source": [
    "![image.png](attachment:image.png)"
   ]
  },
  {
   "cell_type": "code",
   "execution_count": null,
   "metadata": {},
   "outputs": [],
   "source": []
  }
 ],
 "metadata": {
  "kernelspec": {
   "display_name": "Python 3",
   "language": "python",
   "name": "python3"
  },
  "language_info": {
   "codemirror_mode": {
    "name": "ipython",
    "version": 3
   },
   "file_extension": ".py",
   "mimetype": "text/x-python",
   "name": "python",
   "nbconvert_exporter": "python",
   "pygments_lexer": "ipython3",
   "version": "3.6.4"
  }
 },
 "nbformat": 4,
 "nbformat_minor": 2
}
