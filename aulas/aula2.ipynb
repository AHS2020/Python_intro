{
 "cells": [
  {
   "cell_type": "markdown",
   "metadata": {},
   "source": [
    "# Variáveis, expressões e declarações"
   ]
  },
  {
   "cell_type": "markdown",
   "metadata": {},
   "source": [
    "## Valores e tipos\n",
    "\n",
    "* **valor** : algo fundamental manipulado pelo programa\n",
    "   * letra\n",
    "   * número\n",
    "* **tipo** : classificação dos valores\n",
    "   * letra: string\n",
    "   * número: inteiro, float, bool\n",
    "\n",
    "#### String\n",
    "* o tipo string é *str* e é identificado por aspas"
   ]
  },
  {
   "cell_type": "code",
   "execution_count": 47,
   "metadata": {},
   "outputs": [
    {
     "data": {
      "text/plain": [
       "'letras'"
      ]
     },
     "execution_count": 47,
     "metadata": {},
     "output_type": "execute_result"
    }
   ],
   "source": [
    "'letras'"
   ]
  },
  {
   "cell_type": "markdown",
   "metadata": {},
   "source": [
    "#### Float\n",
    "* os números reais são representados pelo tipo de dados *float*"
   ]
  },
  {
   "cell_type": "code",
   "execution_count": 48,
   "metadata": {},
   "outputs": [
    {
     "data": {
      "text/plain": [
       "10.8"
      ]
     },
     "execution_count": 48,
     "metadata": {},
     "output_type": "execute_result"
    }
   ],
   "source": [
    "10.8"
   ]
  },
  {
   "cell_type": "markdown",
   "metadata": {},
   "source": [
    "Para saber o **tipo** de dados:"
   ]
  },
  {
   "cell_type": "code",
   "execution_count": 49,
   "metadata": {},
   "outputs": [
    {
     "data": {
      "text/plain": [
       "str"
      ]
     },
     "execution_count": 49,
     "metadata": {},
     "output_type": "execute_result"
    }
   ],
   "source": [
    "type('letras')"
   ]
  },
  {
   "cell_type": "code",
   "execution_count": 50,
   "metadata": {},
   "outputs": [
    {
     "data": {
      "text/plain": [
       "float"
      ]
     },
     "execution_count": 50,
     "metadata": {},
     "output_type": "execute_result"
    }
   ],
   "source": [
    "type(10.8)"
   ]
  },
  {
   "cell_type": "code",
   "execution_count": 51,
   "metadata": {},
   "outputs": [
    {
     "data": {
      "text/plain": [
       "int"
      ]
     },
     "execution_count": 51,
     "metadata": {},
     "output_type": "execute_result"
    }
   ],
   "source": [
    "type(8)"
   ]
  },
  {
   "cell_type": "code",
   "execution_count": 52,
   "metadata": {},
   "outputs": [
    {
     "data": {
      "text/plain": [
       "str"
      ]
     },
     "execution_count": 52,
     "metadata": {},
     "output_type": "execute_result"
    }
   ],
   "source": [
    "type('3.8')"
   ]
  },
  {
   "cell_type": "markdown",
   "metadata": {},
   "source": [
    "## Variáveis\n",
    "\n",
    "Uma **variável** é um nome que se refere a um **valor**.\n",
    "\n",
    "\n",
    "Uma **declaração de atribuição** de variáveis, cria novas variáveis e lhes atribui valores:"
   ]
  },
  {
   "cell_type": "code",
   "execution_count": 53,
   "metadata": {},
   "outputs": [],
   "source": [
    "mensagem = 'Temos um número grande alunos inscritos na disciplina'"
   ]
  },
  {
   "cell_type": "code",
   "execution_count": 54,
   "metadata": {},
   "outputs": [],
   "source": [
    "n_alunos = 25"
   ]
  },
  {
   "cell_type": "code",
   "execution_count": 55,
   "metadata": {},
   "outputs": [],
   "source": [
    "pi = 3.1415926535897932"
   ]
  },
  {
   "cell_type": "code",
   "execution_count": 56,
   "metadata": {},
   "outputs": [
    {
     "data": {
      "text/plain": [
       "str"
      ]
     },
     "execution_count": 56,
     "metadata": {},
     "output_type": "execute_result"
    }
   ],
   "source": [
    "type(mensagem)"
   ]
  },
  {
   "cell_type": "code",
   "execution_count": 57,
   "metadata": {},
   "outputs": [
    {
     "data": {
      "text/plain": [
       "int"
      ]
     },
     "execution_count": 57,
     "metadata": {},
     "output_type": "execute_result"
    }
   ],
   "source": [
    "type(n_alunos)"
   ]
  },
  {
   "cell_type": "code",
   "execution_count": 58,
   "metadata": {},
   "outputs": [
    {
     "data": {
      "text/plain": [
       "float"
      ]
     },
     "execution_count": 58,
     "metadata": {},
     "output_type": "execute_result"
    }
   ],
   "source": [
    "type(pi)"
   ]
  },
  {
   "cell_type": "markdown",
   "metadata": {},
   "source": [
    "## Nomes de variáveis e palavras-chave\n",
    "Em geral, é de boa prática usarmos nomes de variáveis sugestivos.\n",
    "\n",
    "Nomes de variáveis podem ser arbitrariamente longos. Eles podem conter letras e números, mas **precisam começar com uma letra**. \n",
    "Pode-se usar letras maiúsculas, mas a diretriz de programação em Python é começar nomes de variáveis com letras minúsculas.\n",
    "\n",
    "O caractere *underline*, '_',  pode aparecer em um nome. É frequentemente usado em nomes com várias palavras, como *meu_nome* ou *massa_de_repouso*.\n",
    "\n",
    "Ao criar uma variável com um nome não permitido, haverá um erro de sintaxe:"
   ]
  },
  {
   "cell_type": "code",
   "execution_count": 59,
   "metadata": {},
   "outputs": [
    {
     "ename": "SyntaxError",
     "evalue": "invalid syntax (<ipython-input-59-20b6b75de348>, line 1)",
     "output_type": "error",
     "traceback": [
      "\u001b[0;36m  File \u001b[0;32m\"<ipython-input-59-20b6b75de348>\"\u001b[0;36m, line \u001b[0;32m1\u001b[0m\n\u001b[0;31m    500mil_pessoas = 'multidao'\u001b[0m\n\u001b[0m                 ^\u001b[0m\n\u001b[0;31mSyntaxError\u001b[0m\u001b[0;31m:\u001b[0m invalid syntax\n"
     ]
    }
   ],
   "source": [
    "500mil_pessoas = 'multidao'"
   ]
  },
  {
   "cell_type": "code",
   "execution_count": null,
   "metadata": {},
   "outputs": [],
   "source": [
    "milh@res = 10000 "
   ]
  },
  {
   "cell_type": "code",
   "execution_count": null,
   "metadata": {},
   "outputs": [],
   "source": [
    "class = 'Introdução a Python'"
   ]
  },
  {
   "cell_type": "markdown",
   "metadata": {},
   "source": [
    "#### Palavras-chave de Python"
   ]
  },
  {
   "cell_type": "code",
   "execution_count": null,
   "metadata": {},
   "outputs": [],
   "source": [
    "import keyword\n",
    "print(keyword.kwlist)"
   ]
  },
  {
   "cell_type": "markdown",
   "metadata": {},
   "source": [
    "## Operadores e operandos\n",
    "* **Operadores**: símbolos especiais que representam cálculos como adição e multiplicação. \n",
    "* **Operandos**: valores aos quais o operador é aplicado.\n",
    "\n",
    "### Operadores:\n",
    "* adição: + \n",
    "* subtração: - \n",
    "* divisão: /\n",
    "* multiplicação: *\n",
    "* potência: **"
   ]
  },
  {
   "cell_type": "markdown",
   "metadata": {},
   "source": [
    "Em **python2**, a divisão de inteiros retorna um inteiro (**divisão de piso**). \n",
    "\n",
    "Porém, em **python3**, o resultado é um float:"
   ]
  },
  {
   "cell_type": "code",
   "execution_count": null,
   "metadata": {},
   "outputs": [],
   "source": [
    "59/60"
   ]
  },
  {
   "cell_type": "code",
   "execution_count": null,
   "metadata": {},
   "outputs": [],
   "source": [
    "# Para divisão de piso em python3:\n",
    "59//60"
   ]
  },
  {
   "cell_type": "markdown",
   "metadata": {},
   "source": [
    "## Expressões e declarações\n",
    "Uma **expressão** é uma combinação de *valores*, *variáveis* e *operadores*. \n",
    "\n",
    "Um valor por si só é considerado uma expressão.\n",
    "\n",
    "Uma variável por si só também é considerada uma expressão.\n",
    "\n",
    "Exemplos de expressão:"
   ]
  },
  {
   "cell_type": "code",
   "execution_count": null,
   "metadata": {},
   "outputs": [],
   "source": [
    "n_alunos"
   ]
  },
  {
   "cell_type": "code",
   "execution_count": null,
   "metadata": {},
   "outputs": [],
   "source": [
    "20"
   ]
  },
  {
   "cell_type": "code",
   "execution_count": null,
   "metadata": {},
   "outputs": [],
   "source": [
    "n_alunos + 20"
   ]
  },
  {
   "cell_type": "markdown",
   "metadata": {},
   "source": [
    "Uma **declaração** é um pedaço de código que o interpretador de Python pode executar. \n",
    "Por exemplo, uma atribuição (*assignment*) também é uma declaração: "
   ]
  },
  {
   "cell_type": "code",
   "execution_count": null,
   "metadata": {},
   "outputs": [],
   "source": [
    "x = 20"
   ]
  },
  {
   "cell_type": "code",
   "execution_count": null,
   "metadata": {},
   "outputs": [],
   "source": [
    "print(' \"print\" também é uma declaração')"
   ]
  },
  {
   "cell_type": "code",
   "execution_count": null,
   "metadata": {},
   "outputs": [],
   "source": [
    "%run -i 'chapter2_ex1.py'"
   ]
  },
  {
   "cell_type": "markdown",
   "metadata": {},
   "source": [
    "## Ordem das Operações\n",
    "\n",
    "Quando mais de um operador aparece em uma expressão, a ordem de avaliação depende das **regras de precedência**. Para operadores matemáticos, o **Python segue a convenção matemática**. O acrônimo **PEMDAS** é uma maneira útil de lembrar as regras:\n",
    "\n",
    "**P**arênteses: têm a precedência mais alta e podem ser usados para forçar uma expressão a ser avaliada na ordem desejada. As expressões entre parênteses são avaliadas primeiro.\n",
    "\n",
    "Você também pode usar parênteses para melhorar a legibilidade, mesmo não alterando o resultado."
   ]
  },
  {
   "cell_type": "code",
   "execution_count": null,
   "metadata": {},
   "outputs": [],
   "source": [
    "2 * (3 - 1)"
   ]
  },
  {
   "cell_type": "code",
   "execution_count": null,
   "metadata": {},
   "outputs": [],
   "source": [
    "(1 + 1)**(5 - 2)"
   ]
  },
  {
   "cell_type": "code",
   "execution_count": null,
   "metadata": {},
   "outputs": [],
   "source": [
    "(n_alunos * 100) / 60"
   ]
  },
  {
   "cell_type": "markdown",
   "metadata": {},
   "source": [
    "**E**xponenciação: tem a segunda precedência mais alta:"
   ]
  },
  {
   "cell_type": "code",
   "execution_count": null,
   "metadata": {},
   "outputs": [],
   "source": [
    "2 ** 1 + 1"
   ]
  },
  {
   "cell_type": "code",
   "execution_count": null,
   "metadata": {},
   "outputs": [],
   "source": [
    "3 * 1 ** 3"
   ]
  },
  {
   "cell_type": "markdown",
   "metadata": {},
   "source": [
    "**M**ultiplicação e **D**ivisão: têm a mesma precedência, que é maior que **A**dição e **S**ubtração, que também têm a mesma precedência."
   ]
  },
  {
   "cell_type": "code",
   "execution_count": null,
   "metadata": {},
   "outputs": [],
   "source": [
    "2 * 3 - 1"
   ]
  },
  {
   "cell_type": "code",
   "execution_count": null,
   "metadata": {},
   "outputs": [],
   "source": [
    "6 + 4/2"
   ]
  },
  {
   "cell_type": "markdown",
   "metadata": {},
   "source": [
    "***Na dúvida, use sempre parênteses!***"
   ]
  },
  {
   "cell_type": "markdown",
   "metadata": {},
   "source": [
    "## Operações com Strings\n",
    "\n",
    "Em geral, **não é possível realizar operações matemáticas em strings**"
   ]
  },
  {
   "cell_type": "code",
   "execution_count": null,
   "metadata": {},
   "outputs": [],
   "source": [
    "'2' - '1'"
   ]
  },
  {
   "cell_type": "code",
   "execution_count": null,
   "metadata": {},
   "outputs": [],
   "source": [
    "'quebrar' / 'ovos'"
   ]
  },
  {
   "cell_type": "code",
   "execution_count": null,
   "metadata": {},
   "outputs": [],
   "source": [
    "'acucar' * 'doce'"
   ]
  },
  {
   "cell_type": "markdown",
   "metadata": {},
   "source": [
    "### O operador '+' pode ser aplicado a strings: ele realiza **concatenação**, o que significa unir as strings vinculando-as de ponta a ponta."
   ]
  },
  {
   "cell_type": "code",
   "execution_count": null,
   "metadata": {},
   "outputs": [],
   "source": [
    "primeira_frase = 'mundo, mundo'\n",
    "segunda_frase = ', vasto mundo'\n",
    "print(primeira_frase + segunda_frase)"
   ]
  },
  {
   "cell_type": "markdown",
   "metadata": {},
   "source": [
    "### O operador '*' também pode ser aplicado a strings. Porém um dos operandos tem que ser uma string e outro um inteiro:"
   ]
  },
  {
   "cell_type": "code",
   "execution_count": null,
   "metadata": {},
   "outputs": [],
   "source": [
    "'mundo'*4"
   ]
  },
  {
   "cell_type": "markdown",
   "metadata": {},
   "source": [
    "## Comentários\n",
    "\n",
    "É recomendável adicionar notas aos seus programas para explicar em linguagem natural o que o programa está fazendo. Essas notas são chamadas de **comentários** e começam com o símbolo **#**.\n",
    "\n",
    "Um comentário é útil quando relata alguma característica não óbvia do programa."
   ]
  },
  {
   "cell_type": "code",
   "execution_count": null,
   "metadata": {},
   "outputs": [],
   "source": [
    "# Calcular a velocidade v de um corpo\n",
    "s = 100 # distância em metros\n",
    "t = 10 # tempo em segundos\n",
    "v = s/t\n",
    "print(v)"
   ]
  },
  {
   "cell_type": "markdown",
   "metadata": {},
   "source": [
    "Exemplo de comentário inútil:"
   ]
  },
  {
   "cell_type": "code",
   "execution_count": null,
   "metadata": {},
   "outputs": [],
   "source": [
    "s = 100 # atribui o valor 100 a s. "
   ]
  },
  {
   "cell_type": "markdown",
   "metadata": {},
   "source": [
    "A escolha de bons nomes de variáveis, diminui o número de comentários necessários:"
   ]
  },
  {
   "cell_type": "code",
   "execution_count": null,
   "metadata": {},
   "outputs": [],
   "source": [
    "# Calcular a velocidade de um corpo\n",
    "distancia = 100 \n",
    "tempo = 10 \n",
    "velocidade = distancia/tempo\n",
    "print(velocidade)"
   ]
  },
  {
   "cell_type": "markdown",
   "metadata": {},
   "source": [
    "## Debugging\n",
    "\n",
    "Os **erros de sintaxe** mais comuns até aqui devem ser:\n",
    "\n",
    "* nome de variável ilegal:\n",
    "   * *class* e *yield*, que são palavras-chave\n",
    "   * *meu-nome* e *R$*, que contêm caracteres ilegais.\n",
    "\n",
    "Se você colocar um espaço em um nome de variável, o Python acha que são dois operandos sem um operador:"
   ]
  },
  {
   "cell_type": "code",
   "execution_count": null,
   "metadata": {},
   "outputs": [],
   "source": [
    "nome ruim de variavel = 5"
   ]
  },
  {
   "cell_type": "markdown",
   "metadata": {},
   "source": [
    "As mensagens mais comuns são SyntaxError: sintaxe inválida e SyntaxError: token inválido, nenhum dos quais é muito informativo.\n",
    "\n",
    "O **erro de execução** que você provavelmente mais encontrará é a de **tentativa de uso de uma variável antes antes de atribuir um valor (*use before def*)**. Isso pode acontecer quando se soletra um nome de variável errado:"
   ]
  },
  {
   "cell_type": "code",
   "execution_count": null,
   "metadata": {},
   "outputs": [],
   "source": [
    "# cálculo do IMC de um bebê\n",
    "massa = 11 # em Kg\n",
    "altura = 0.70 # m\n",
    "imc = mass/altura**2 \n",
    "print(imc)"
   ]
  },
  {
   "cell_type": "markdown",
   "metadata": {},
   "source": [
    "Os erros de semântica mais comuns até aqui devem ser os de precedência de operações matemáticas. Por exemplo, se você quer calcular 1/(2pi):"
   ]
  },
  {
   "cell_type": "code",
   "execution_count": null,
   "metadata": {},
   "outputs": [],
   "source": [
    "pi = 3.14\n",
    "1/2*pi"
   ]
  },
  {
   "cell_type": "code",
   "execution_count": null,
   "metadata": {},
   "outputs": [],
   "source": [
    "1/(2*pi)"
   ]
  },
  {
   "cell_type": "markdown",
   "metadata": {},
   "source": [
    "## Glossário\n",
    "\n",
    "* **valor:** Uma das unidades básicas de dados, como um número ou string, que um programa manipula.\n",
    "* **tipo:** Uma categoria de valores. Os tipos que vimos até agora são inteiros (tipo int), números de ponto flutuante (tipo float) e strings (tipo str).\n",
    "* **inteiro:** Um tipo que representa números inteiros.\n",
    "* **ponto flutuante:** Um tipo que representa números com partes fracionárias.\n",
    "* **string:** Um tipo que representa sequências de caracteres.\n",
    "* **variável:** Um nome que se refere a um valor.\n",
    "* **declaração:** Uma seção de código que representa um comando ou ação. Até agora, as declarações que temos visto são atribuições e declarações impressas.\n",
    "* **atribuição:** Uma declaração que atribui um valor a uma variável.\n",
    "* **palavra chave:** Uma palavra reservada que é usada pelo compilador para analisar um programa; você não pode usar palavras-chave como if, def e while como nomes de variáveis.\n",
    "* **operador:** Um símbolo especial que representa um cálculo simples, como adição, multiplicação ou concatenação de string.\n",
    "* **operando:** Um dos valores nos quais um operador opera.\n",
    "* **divisão de piso:** A operação que divide dois números e corta a parte fracionária.\n",
    "* **expressão:** Uma combinação de variáveis, operadores e valores que representa um único valor de resultado.\n",
    "* **Estimar/calcular:** Simplificar uma expressão executando as operações para gerar um único valor.\n",
    "* **regras de precedência:** O conjunto de regras que governam a ordem na qual as expressões envolvendo vários operadores e operandos são avaliadas.\n",
    "* **concatenar:** Unir dois operandos de ponta a ponta.\n",
    "* **Comentar:** Informações em um programa destinado a outros programadores (ou qualquer pessoa que esteja lendo o código-fonte) e não tem efeito sobre a execução do programa."
   ]
  },
  {
   "cell_type": "markdown",
   "metadata": {},
   "source": [
    "## Exercícios\n",
    "\n",
    "### Exercício 1:\n",
    "Considere as seguintes declarações de atribuições:\n",
    "   * largura = 17 \n",
    "   * altura = 12.0\n",
    "   * delimitador = \".\"\n",
    "   \n",
    "Para cada uma das expressões a seguir, escreva o valor das expressões e o tipo (do valor da expressão):\n",
    "1. largura/2\n",
    "1. largura/2.0\n",
    "1. altura/3\n",
    "1. 1 + 2 * 5\n",
    "1. delimitador*5\n",
    "\n",
    "Use o interpretador de python para verificar suas respostas.\n",
    "\n",
    "### Exercício 2:\n",
    "O volume de uma esfera de raio *r* é $\\frac{4}{3} \\pi r^{3}$ \n",
    "\n",
    "Qual é o volume de uma esfera de raio 5? (*Dica: a resposta correta **não é** 392.7*)\n",
    "\n",
    "### Exercício 3:\n",
    "Suponha que o preço de um livro seja 24.95 reais, porém as livrarias têm desconto de 40%. Os custos de envio são de 3.00 reais para o primeiro livro e 0.75 reais para os livros adicionais. Qual é o custo total da compra de 60 livros?  \n",
    "\n",
    "### Exercício 4:\n",
    "Um laser vermelho (com comprimento de onda $\\lambda = 632.8$ nm) incide em uma fenda dupla produzindo um padrão de interfência com franjas claras e escuras, em um anteparo situado a uma distância D = 2.98 m da fenda. Calcule a distância $\\Delta y$ entre dois máximos consecutivos de interferência. Considere o espaçamento entre as fendas, $d$, como sendo igual a 0.08 mm.\n",
    "*Dica: a distância entre dois máximos de interferência consecutivos pode ser aproximada por $\\Delta y = \\frac{\\lambda D}{d}$.*"
   ]
  },
  {
   "cell_type": "markdown",
   "metadata": {},
   "source": [
    "# Funções"
   ]
  },
  {
   "cell_type": "markdown",
   "metadata": {},
   "source": [
    "Em programação, uma **função** é uma sequência nomeada de declarações que realiza uma computação.\n",
    "\n",
    "Ao criar uma função, deve-se especificar o nome da função e a sequência de declarações.\n",
    "\n",
    "## Chamada de funções\n",
    "Já vimos um exemplo pelo menos de chamada de função:"
   ]
  },
  {
   "cell_type": "code",
   "execution_count": null,
   "metadata": {},
   "outputs": [],
   "source": [
    "type(40)"
   ]
  },
  {
   "cell_type": "markdown",
   "metadata": {},
   "source": [
    "* **nome** da função: *type*\n",
    "* **argumento**: 40\n",
    "* **valor de retorno** da função: é o resultado que a função retorna. Nesse exemplo, a função de nome *type*, retorna o tipo do *argumento* passado na função."
   ]
  },
  {
   "cell_type": "markdown",
   "metadata": {},
   "source": [
    "## Funções de conversão de tipo\n",
    "O Python fornece funções internas (*built-in*) que convertem valores de um tipo para outro ==> **casting**. \n",
    "A função *int* pega qualquer valor e o converte em um inteiro, se puder:"
   ]
  },
  {
   "cell_type": "code",
   "execution_count": null,
   "metadata": {},
   "outputs": [],
   "source": [
    "int(2.8)"
   ]
  },
  {
   "cell_type": "markdown",
   "metadata": {},
   "source": [
    "ou reclama do contrário:"
   ]
  },
  {
   "cell_type": "code",
   "execution_count": null,
   "metadata": {},
   "outputs": [],
   "source": [
    "int('Oi')"
   ]
  },
  {
   "cell_type": "markdown",
   "metadata": {},
   "source": [
    "A função *float* converte inteiros e strings em *floats*:"
   ]
  },
  {
   "cell_type": "code",
   "execution_count": null,
   "metadata": {},
   "outputs": [],
   "source": [
    "float(32)"
   ]
  },
  {
   "cell_type": "code",
   "execution_count": null,
   "metadata": {},
   "outputs": [],
   "source": [
    "float('3.14159')"
   ]
  },
  {
   "cell_type": "markdown",
   "metadata": {},
   "source": [
    "A função *str* converte seu argumento em *strings*:"
   ]
  },
  {
   "cell_type": "code",
   "execution_count": null,
   "metadata": {},
   "outputs": [],
   "source": [
    "str(32)"
   ]
  },
  {
   "cell_type": "code",
   "execution_count": null,
   "metadata": {},
   "outputs": [],
   "source": [
    "str(3.14159)"
   ]
  },
  {
   "cell_type": "markdown",
   "metadata": {},
   "source": [
    "## Funções matemáticas"
   ]
  },
  {
   "cell_type": "markdown",
   "metadata": {},
   "source": [
    "O Python possui um **módulo matemático** que fornece a maioria das funções matemáticas familiares. \n",
    "\n",
    "Um **módulo** de python é um arquivo que contém uma coleção de funções relacionadas.\n",
    "\n",
    "Antes de poder usar um certo módulo, temos que ***importá-lo***:"
   ]
  },
  {
   "cell_type": "code",
   "execution_count": null,
   "metadata": {},
   "outputs": [],
   "source": [
    "import math"
   ]
  },
  {
   "cell_type": "markdown",
   "metadata": {},
   "source": [
    "A declaração acima **cria um objeto de módulo** chamado math.\n",
    "\n",
    "Você imprimir o objeto de módulo:"
   ]
  },
  {
   "cell_type": "code",
   "execution_count": null,
   "metadata": {},
   "outputs": [],
   "source": [
    "print(math)"
   ]
  },
  {
   "cell_type": "markdown",
   "metadata": {},
   "source": [
    "O objeto do módulo contém as funções e variáveis definidas no módulo. \n",
    "\n",
    "Para acessar uma das funções:\n",
    "\n",
    "* nome_do_objeto_do_modulo**.**nome_da_funcao\n",
    "\n",
    "\n",
    "Esse formato é chamado de **notação de ponto**."
   ]
  },
  {
   "cell_type": "code",
   "execution_count": null,
   "metadata": {},
   "outputs": [],
   "source": [
    "import math\n",
    "cateto_oposto = 4\n",
    "cateto_adjacente = 2\n",
    "tangente_theta = cateto_oposto/cateto_adjacente\n",
    "theta = math.atan(tangente_theta)\n",
    "print(theta, 'em radianos')"
   ]
  },
  {
   "cell_type": "markdown",
   "metadata": {},
   "source": [
    "As funções trigonométricas pegam os argumentos em radianos.\n",
    "\n",
    "Podemos converter de radianos para graus com uma função do objeto do módulo:"
   ]
  },
  {
   "cell_type": "code",
   "execution_count": null,
   "metadata": {},
   "outputs": [],
   "source": [
    "math.degrees(theta)"
   ]
  },
  {
   "cell_type": "markdown",
   "metadata": {},
   "source": [
    "Ou:"
   ]
  },
  {
   "cell_type": "code",
   "execution_count": null,
   "metadata": {},
   "outputs": [],
   "source": [
    "theta_graus = theta*180/math.pi\n",
    "print(theta_graus)"
   ]
  },
  {
   "cell_type": "markdown",
   "metadata": {},
   "source": [
    "Acessamos o valor de $\\pi$ determinado no módulo matemático através da variável math.pi. O valor dessa variável é uma aproximação de π, com precisão de cerca de 15 dígitos."
   ]
  },
  {
   "cell_type": "markdown",
   "metadata": {},
   "source": [
    "Quantos graus tem o ângulo correspondente a $cos\\theta = \\sqrt2/2$ ?"
   ]
  },
  {
   "cell_type": "code",
   "execution_count": null,
   "metadata": {},
   "outputs": [],
   "source": [
    "math.degrees(math.acos(math.sqrt(2)/2))"
   ]
  },
  {
   "cell_type": "markdown",
   "metadata": {},
   "source": [
    "## Composição\n",
    "\n",
    "Até agora, analisamos os elementos de um programa - variáveis, expressões e declarações - isoladamente, sem falar sobre como combiná-los.\n",
    "\n",
    "Um dos recursos mais úteis das linguagens de programação é a capacidade de usar blocos de construção pequenos e **compô-los**. \n",
    "\n",
    "Por exemplo, ***o argumento de uma função pode ser qualquer tipo de expressão***, incluindo operadores aritméticos:"
   ]
  },
  {
   "cell_type": "code",
   "execution_count": null,
   "metadata": {},
   "outputs": [],
   "source": [
    "x = math.sin(theta_graus/360.0 * 2 * math.pi)"
   ]
  },
  {
   "cell_type": "markdown",
   "metadata": {},
   "source": [
    "E até mesmo chamadas de função:"
   ]
  },
  {
   "cell_type": "code",
   "execution_count": null,
   "metadata": {},
   "outputs": [],
   "source": [
    "x = math.exp(math.log (x + 1))"
   ]
  },
  {
   "cell_type": "markdown",
   "metadata": {},
   "source": [
    "* Em quase todo lugar onde é possível usar um valor, também é possível usar uma expressão arbitrária\n",
    "* Porém, o lado esquerdo de uma ***declaração de atribuição** deve ser sempre um ***nome de variável***. "
   ]
  },
  {
   "cell_type": "code",
   "execution_count": null,
   "metadata": {},
   "outputs": [],
   "source": [
    "horas = 2\n",
    "minutos = horas * 60"
   ]
  },
  {
   "cell_type": "code",
   "execution_count": null,
   "metadata": {},
   "outputs": [],
   "source": [
    "horas * 60 = minutos "
   ]
  },
  {
   "cell_type": "code",
   "execution_count": null,
   "metadata": {},
   "outputs": [],
   "source": []
  }
 ],
 "metadata": {
  "kernelspec": {
   "display_name": "Python 3",
   "language": "python",
   "name": "python3"
  },
  "language_info": {
   "codemirror_mode": {
    "name": "ipython",
    "version": 3
   },
   "file_extension": ".py",
   "mimetype": "text/x-python",
   "name": "python",
   "nbconvert_exporter": "python",
   "pygments_lexer": "ipython3",
   "version": "3.6.4"
  }
 },
 "nbformat": 4,
 "nbformat_minor": 2
}
