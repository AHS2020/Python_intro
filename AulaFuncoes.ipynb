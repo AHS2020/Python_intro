{
 "cells": [
  {
   "cell_type": "markdown",
   "metadata": {},
   "source": [
    "# Aula 4 : Funções,  argumentos e fluxo de execução\n",
    "\n",
    "## Fluxo de Execução\n",
    "\n",
    "Para garantir que uma função seja definida antes de seu primeiro uso, você deve saber a ordem em que as instruções são executadas, o que é chamado de __fluxo de execução__ . A execução sempre começa na primeira declaração **do programa** (main). As declarações são executadas uma de cada vez, em ordem de cima para baixo.\n",
    "\n",
    "As definições de função não alteram o fluxo de execução do programa, mas as instruções dentro da função **não serão executadas até que a função seja chamada**. Uma chamada de função é como um desvio no fluxo de execução. Em vez de ir para a próxima instrução, o fluxo pula para o corpo da função, executa todas as instruções e, em seguida, volta para continuar de onde parou. \n"
   ]
  },
  {
   "cell_type": "code",
   "execution_count": 4,
   "metadata": {},
   "outputs": [
    {
     "name": "stdout",
     "output_type": "stream",
     "text": [
      "lalarí\n",
      "lalarí\n",
      "lalará\n",
      "lalará\n"
     ]
    }
   ],
   "source": [
    "def meuverso(palavras):\n",
    "    print(palavras)\n",
    "    print(palavras)\n",
    "    \n",
    "def minhacancao(verso1, verso2):\n",
    "    meuverso(verso1)\n",
    "    meuverso(verso2)\n",
    "    \n",
    "minhacancao(\"lalarí\",\"lalará\")"
   ]
  },
  {
   "cell_type": "markdown",
   "metadata": {},
   "source": [
    "O fluxo de execução do codigo anterior chama a função ```minhacancao``` na linha 9 com argumentos ```\"lalarí\"``` e ```\"lalará\"```, que da sua vez chama duas vezes a função ```meuverso```, uma para cada palavra."
   ]
  },
  {
   "cell_type": "code",
   "execution_count": 5,
   "metadata": {},
   "outputs": [
    {
     "name": "stdout",
     "output_type": "stream",
     "text": [
      "naaaaa na na nana nanaa\n",
      "naaaaa na na nana nanaa\n",
      "tudum tudum dum\n",
      "tudum tudum dum\n"
     ]
    }
   ],
   "source": [
    "minhacancao(\"naaaaa na na nana nanaa\",\"tudum tudum dum\")"
   ]
  },
  {
   "cell_type": "markdown",
   "metadata": {},
   "source": [
    "Então, quando você lê um programa, nem sempre quer ler de cima para baixo. Às vezes faz mais sentido ***seguir o fluxo de execução***."
   ]
  },
  {
   "cell_type": "markdown",
   "metadata": {},
   "source": [
    "### Parâmetros e argumentos\n",
    "\n",
    "Algumas das funções internas e definidas por nós que temos visto requerem ___argumentos___. Por exemplo, quando você chama ```math.sin```, você passa um número como um argumento. Algumas funções levam mais de um argumento: ```math.pow```, por exemplo, toma dois: a base e o expoente.\n",
    "\n",
    "Dentro da função, os argumentos são atribuídos a variáveis locais chamadas ***parâmetros***. \n",
    "No exemplo anterior, a função ```meuverso``` leva só um argumento.  Esta função atribui o argumento a um parámetro chamado ```palavras```. Quando a função é chamada, ela imprime o valor do parâmetro (o que quer que seja) duas vezes.\n",
    "\n",
    "As mesmas regras de composição que se aplicam a funções internas do Python também se aplicam a funções definidas pelo usuário, então podemos usar qualquer tipo de expressão como um argumento para ```meuverso```: "
   ]
  },
  {
   "cell_type": "code",
   "execution_count": 10,
   "metadata": {},
   "outputs": [
    {
     "name": "stdout",
     "output_type": "stream",
     "text": [
      "ha ha ha ho ho ho \n",
      "ha ha ha ho ho ho \n",
      "28.636363636363637\n",
      "28.636363636363637\n"
     ]
    }
   ],
   "source": [
    "meuverso(\"ha \" *3 + \"ho \"*3)\n"
   ]
  },
  {
   "cell_type": "markdown",
   "metadata": {},
   "source": [
    "Também a função ```meuverso``` funciona com ___qualquer valor que possa ser impresso___, p. ex. números ou expressões numéricas:"
   ]
  },
  {
   "cell_type": "code",
   "execution_count": 11,
   "metadata": {},
   "outputs": [
    {
     "name": "stdout",
     "output_type": "stream",
     "text": [
      "28.636363636363637\n",
      "28.636363636363637\n"
     ]
    }
   ],
   "source": [
    "meuverso(35*90/110)"
   ]
  },
  {
   "cell_type": "markdown",
   "metadata": {},
   "source": [
    "O argumento é avaliado antes que a função seja chamada, portanto, no exemplo acima, as expressões ```\"ha \"*3+ \"he\"*3``` e ```35*90/110 ``` são avaliadas apenas uma vez.\n",
    "\n",
    "Você também pode usar uma variável como um argumento:"
   ]
  },
  {
   "cell_type": "code",
   "execution_count": 12,
   "metadata": {},
   "outputs": [
    {
     "name": "stdout",
     "output_type": "stream",
     "text": [
      "I want to ride my bicycle\n",
      "I want to ride my bicycle\n"
     ]
    }
   ],
   "source": [
    "bicycle= \"I want to ride my bicycle\"\n",
    "meuverso(bicycle)"
   ]
  },
  {
   "cell_type": "markdown",
   "metadata": {},
   "source": [
    "O nome da variável que passamos como argumento (```bicycle``` ) não tem nada a ver com o nome do parâmetro ( ```palavras``` ). Não importa qual valor foi chamado de volta para casa (no chamador); aqui dentro do ```meuverso```, chamamos ele de ```palavras```."
   ]
  },
  {
   "cell_type": "markdown",
   "metadata": {},
   "source": [
    "### Variáveis e parâmetros são locais\n",
    "\n",
    "Quando você cria uma variável dentro de uma função, ela é local , o que significa que ela existe somente dentro da função. Por exemplo:"
   ]
  },
  {
   "cell_type": "code",
   "execution_count": 13,
   "metadata": {},
   "outputs": [],
   "source": [
    "def gato_duplo (parte1, parte2): \n",
    "    gato = parte1 + parte2 \n",
    "    meuverso (gato)"
   ]
  },
  {
   "cell_type": "markdown",
   "metadata": {},
   "source": [
    "Essa função recebe dois argumentos, concatena-os e imprime o resultado duas vezes. Aqui está um exemplo que usa:"
   ]
  },
  {
   "cell_type": "code",
   "execution_count": 15,
   "metadata": {},
   "outputs": [
    {
     "name": "stdout",
     "output_type": "stream",
     "text": [
      "blim blem! \n",
      "blim blem! \n"
     ]
    }
   ],
   "source": [
    "linha1 = \"blim \"\n",
    "linha2 = \"blem! \"\n",
    "gato_duplo(linha1,linha2)"
   ]
  },
  {
   "cell_type": "markdown",
   "metadata": {},
   "source": [
    "Quando ```gato_duplo``` termina, a variável ```gato``` é destruída. Se tentarmos imprimi-lo, obtemos uma exceção. "
   ]
  },
  {
   "cell_type": "code",
   "execution_count": 20,
   "metadata": {},
   "outputs": [
    {
     "ename": "NameError",
     "evalue": "name 'gato' is not defined",
     "output_type": "error",
     "traceback": [
      "\u001b[0;31m---------------------------------------------------------------------------\u001b[0m",
      "\u001b[0;31mNameError\u001b[0m                                 Traceback (most recent call last)",
      "\u001b[0;32m<ipython-input-20-8987f46a69ad>\u001b[0m in \u001b[0;36m<module>\u001b[0;34m\u001b[0m\n\u001b[0;32m----> 1\u001b[0;31m \u001b[0mprint\u001b[0m\u001b[0;34m(\u001b[0m\u001b[0mgato\u001b[0m\u001b[0;34m)\u001b[0m\u001b[0;34m\u001b[0m\u001b[0m\n\u001b[0m",
      "\u001b[0;31mNameError\u001b[0m: name 'gato' is not defined"
     ]
    }
   ],
   "source": [
    "print(gato)"
   ]
  },
  {
   "cell_type": "markdown",
   "metadata": {},
   "source": [
    "Os parâmetros também são locais. Por exemplo, do lado de fora de ```meuverso```, não existe ```palavras```."
   ]
  },
  {
   "cell_type": "code",
   "execution_count": 18,
   "metadata": {
    "scrolled": true
   },
   "outputs": [
    {
     "ename": "NameError",
     "evalue": "name 'palavras' is not defined",
     "output_type": "error",
     "traceback": [
      "\u001b[0;31m---------------------------------------------------------------------------\u001b[0m",
      "\u001b[0;31mNameError\u001b[0m                                 Traceback (most recent call last)",
      "\u001b[0;32m<ipython-input-18-c93ec8a48400>\u001b[0m in \u001b[0;36m<module>\u001b[0;34m\u001b[0m\n\u001b[0;32m----> 1\u001b[0;31m \u001b[0mprint\u001b[0m\u001b[0;34m(\u001b[0m\u001b[0mpalavras\u001b[0m\u001b[0;34m)\u001b[0m\u001b[0;34m\u001b[0m\u001b[0m\n\u001b[0m",
      "\u001b[0;31mNameError\u001b[0m: name 'palavras' is not defined"
     ]
    }
   ],
   "source": [
    "print(palavras)"
   ]
  },
  {
   "cell_type": "markdown",
   "metadata": {},
   "source": [
    "## Funções com retorno e funções vazias\n",
    "\n",
    "Algumas das funções que estamos usando, como as funções matemáticas, produzem resultados; chamaremos elas de funções com retorno. Outras funções, como aquelas definidas acima (```meuverso``` e ```minhacancao```), executam uma ação, mas não retornam um valor. Eles são chamados de funções vazias (void).\n",
    "\n",
    "### Funções com retorno\n",
    "\n",
    "Quando você chama uma função com retorno, você quase sempre ___quer fazer alguma coisa com o resultado___; por exemplo, você pode atribuí-lo a uma variável ou usá-lo como parte de uma expressão:\n"
   ]
  },
  {
   "cell_type": "code",
   "execution_count": 27,
   "metadata": {},
   "outputs": [
    {
     "name": "stdout",
     "output_type": "stream",
     "text": [
      "x= 0.7071067811865476\n",
      "golden=  1.618033988749895\n"
     ]
    }
   ],
   "source": [
    "import math\n",
    "x = math.cos (math.pi/4) \n",
    "print(\"x=\" , x)\n",
    "golden = (math.sqrt (5) + 1) / 2\n",
    "print(\"golden= \",golden)"
   ]
  },
  {
   "cell_type": "markdown",
   "metadata": {},
   "source": [
    "Quando você chama uma função no modo interativo, o Python exibe o resultado:"
   ]
  },
  {
   "cell_type": "code",
   "execution_count": 29,
   "metadata": {},
   "outputs": [
    {
     "data": {
      "text/plain": [
       "2.23606797749979"
      ]
     },
     "execution_count": 29,
     "metadata": {},
     "output_type": "execute_result"
    }
   ],
   "source": [
    "math.sqrt(5)"
   ]
  },
  {
   "cell_type": "markdown",
   "metadata": {},
   "source": [
    "Mas em um script, se você chamar uma função com retorno por si só, o valor de retorno será perdido __para sempre__!\n",
    "Se você colocar a linha acima num script, mas não armazena ou exibe (imprime) o resultado, esta linha não é muito útil.\n",
    "\n",
    "### Funções vazias \n",
    "\n",
    "Por outro lado, as funções vazias podem exibir algo na tela ou ter algum outro efeito, mas não possuem um valor de retorno. Se você tentar atribuir o resultado a uma variável, receberá um valor especial chamado ```None``` (___nenhum___)."
   ]
  },
  {
   "cell_type": "code",
   "execution_count": 30,
   "metadata": {},
   "outputs": [
    {
     "name": "stdout",
     "output_type": "stream",
     "text": [
      "under pressure\n",
      "under pressure\n"
     ]
    }
   ],
   "source": [
    "resultado = meuverso(\"under pressure\")"
   ]
  },
  {
   "cell_type": "code",
   "execution_count": 31,
   "metadata": {},
   "outputs": [
    {
     "name": "stdout",
     "output_type": "stream",
     "text": [
      "None\n"
     ]
    }
   ],
   "source": [
    "print(resultado)"
   ]
  },
  {
   "cell_type": "markdown",
   "metadata": {},
   "source": [
    "O valor ```None``` não é o mesmo que a string ```'None'```. É um valor especial que possui seu próprio tipo:"
   ]
  },
  {
   "cell_type": "code",
   "execution_count": 32,
   "metadata": {},
   "outputs": [
    {
     "name": "stdout",
     "output_type": "stream",
     "text": [
      "<class 'NoneType'>\n"
     ]
    }
   ],
   "source": [
    "print(type(resultado))"
   ]
  },
  {
   "cell_type": "markdown",
   "metadata": {},
   "source": [
    "## Por que utilizar funções?\n",
    "\n",
    "Pode não estar claro por que vale a pena dividir um programa em funções. Existem vários motivos:\n",
    "\n",
    "  * Criar uma nova função lhe dá a oportunidade de nomear um grupo de instruções, o que torna seu programa mais fácil de ler e depurar.\n",
    "  * Funções podem tornar um programa menor, eliminando código repetitivo. Mais tarde, se você fizer uma alteração, só terá que fazer isso em um só lugar.\n",
    "  * Dividir um programa longo em funções permite depurar as partes uma de cada vez e montá-las em um todo funcional.\n",
    "  * Funções bem projetadas geralmente são úteis para muitos programas. Depois de escrever e depurar um, você poderá reutilizá-lo.\n",
    "  "
   ]
  },
  {
   "cell_type": "code",
   "execution_count": 7,
   "metadata": {},
   "outputs": [
    {
     "data": {
      "text/plain": [
       "time.struct_time(tm_year=2018, tm_mon=10, tm_mday=9, tm_hour=16, tm_min=46, tm_sec=5, tm_wday=1, tm_yday=282, tm_isdst=0)"
      ]
     },
     "execution_count": 7,
     "metadata": {},
     "output_type": "execute_result"
    }
   ],
   "source": [
    "import time\n",
    "t= time.localtime()\n",
    "t # este e o objeto que contem o retorno da chamada anterior"
   ]
  },
  {
   "cell_type": "code",
   "execution_count": 8,
   "metadata": {},
   "outputs": [
    {
     "name": "stdout",
     "output_type": "stream",
     "text": [
      "Hoje é  9 / 10 / 2018  e são as  16 : 46 horas\n"
     ]
    }
   ],
   "source": [
    "print(\"Hoje é \",t.tm_mday,\"/\",t.tm_mon,\"/\",t.tm_year, \" e são as \", t.tm_hour,\":\",t.tm_min, \"horas\")\n",
    "\n"
   ]
  },
  {
   "cell_type": "code",
   "execution_count": 9,
   "metadata": {},
   "outputs": [
    {
     "data": {
      "text/plain": [
       "time.struct_time(tm_year=2018, tm_mon=10, tm_mday=9, tm_hour=19, tm_min=46, tm_sec=29, tm_wday=1, tm_yday=282, tm_isdst=0)"
      ]
     },
     "execution_count": 9,
     "metadata": {},
     "output_type": "execute_result"
    }
   ],
   "source": [
    "time.gmtime()\n"
   ]
  },
  {
   "cell_type": "code",
   "execution_count": null,
   "metadata": {},
   "outputs": [],
   "source": []
  }
 ],
 "metadata": {
  "kernelspec": {
   "display_name": "Python 3",
   "language": "python",
   "name": "python3"
  },
  "language_info": {
   "codemirror_mode": {
    "name": "ipython",
    "version": 3
   },
   "file_extension": ".py",
   "mimetype": "text/x-python",
   "name": "python",
   "nbconvert_exporter": "python",
   "pygments_lexer": "ipython3",
   "version": "3.7.0"
  }
 },
 "nbformat": 4,
 "nbformat_minor": 2
}
