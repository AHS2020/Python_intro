{
 "cells": [
  {
   "cell_type": "code",
   "execution_count": 2,
   "metadata": {},
   "outputs": [],
   "source": [
    "from sympy import *\n",
    "from sympy import symbols\n",
    "import numpy as np\n",
    "import matplotlib.pyplot as plt\n",
    "from matplotlib import rcParams\n",
    "from scipy.linalg import eigh"
   ]
  },
  {
   "cell_type": "code",
   "execution_count": 3,
   "metadata": {},
   "outputs": [],
   "source": [
    "rcParams['font.family'] = 'serif'\n",
    "rcParams['font.size'] = 16\n",
    "rcParams['axes.labelsize'] = 18\n",
    "rcParams['axes.titlesize'] = 20\n",
    "\n",
    "init_printing()"
   ]
  },
  {
   "cell_type": "code",
   "execution_count": 4,
   "metadata": {},
   "outputs": [],
   "source": [
    "x = symbols('x')"
   ]
  },
  {
   "cell_type": "code",
   "execution_count": 5,
   "metadata": {},
   "outputs": [],
   "source": [
    "def approx_sol(num, approx_type='poly'):\n",
    "    \"\"\"Compute the trial function using polynomials or sines\n",
    "    \n",
    "    Parameters\n",
    "    ----------\n",
    "    num : int\n",
    "        Number of terms in the expansion.\n",
    "        \n",
    "    Returns\n",
    "    -------\n",
    "    u_n : Sympy expression\n",
    "        Trial function for the given basis.\n",
    "    c : (num) Sympy symbols list\n",
    "        List of coefficients.\n",
    "        \n",
    "    \"\"\"    \n",
    "    c = symbols('c0:%d'%num)\n",
    "    if approx_type=='poly':\n",
    "        u_n = x*(1 - x)*sum([c[k]*x**k for k in range(num)])\n",
    "    if approx_type=='sine':\n",
    "        u_n = sum([c[k]*sin((k + 1)*x) for k in range(num)])\n",
    "        \n",
    "    return u_n, c"
   ]
  },
  {
   "cell_type": "code",
   "execution_count": null,
   "metadata": {},
   "outputs": [],
   "source": []
  }
 ],
 "metadata": {
  "kernelspec": {
   "display_name": "Python 3",
   "language": "python",
   "name": "python3"
  },
  "language_info": {
   "codemirror_mode": {
    "name": "ipython",
    "version": 3
   },
   "file_extension": ".py",
   "mimetype": "text/x-python",
   "name": "python",
   "nbconvert_exporter": "python",
   "pygments_lexer": "ipython3",
   "version": "3.6.4"
  }
 },
 "nbformat": 4,
 "nbformat_minor": 2
}
