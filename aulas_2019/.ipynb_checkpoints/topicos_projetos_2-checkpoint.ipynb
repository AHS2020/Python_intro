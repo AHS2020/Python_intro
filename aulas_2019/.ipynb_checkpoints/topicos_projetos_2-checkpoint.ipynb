{
 "cells": [
  {
   "cell_type": "markdown",
   "metadata": {},
   "source": [
    "# Tópicos para projetos finais 2019/1\n",
    "\n",
    "Apresentamos abaixo uma lista de possíveis tópicos de projetos. Você deverá __escolher o seu tópico__ e preparar um __seminário__ para apresentar uma introdução ao tópico e sua resolução em Python para o problema apresentado.\n",
    "\n",
    "### _Para todos os tópicos, você deverá organizar o seu código fonte em $\\color{red}{\\textbf{programação orientada a objeto}}$, com classes, módulos, etc._\n",
    "\n",
    "Se você tiver em mente outro tópico que não os listados, deve consultar as professoras para aprovação.\n",
    "\n",
    "1- **Particle in a box with sympy**:\n",
    "   * Energies for the Schroedinger equation in a well with a potential. Use esse notebook para aprender como usar o pacote **sympy** para obter as soluções da equação de Schroedinger com um poço de potencial. Em seguida, use o **sympy** para obter as soluções da equação de Schroedinger para o átomo de Hidrogênio.  https://nbviewer.jupyter.org/github/nicoguaro/notebooks_examples/blob/master/quantum_mechanics_simple.ipynb \n",
    "\n",
    "\n",
    "2- **Ajuste uma linha de emissão de um espectro estelar com astropy**:\n",
    "   * Siga esse tutorial para ajustar uma linha de emissão de um espectro estelar com um modelo pré-definido e um modelo personalizado. Em seguida, use o seu próprio espectro de emissão e faça um ajuste na linha de emissão com o pacote de python **astropy**\n",
    "   * http://learn.astropy.org/rst-tutorials/User-Defined-Model.html?highlight=filtertutorials \n",
    "   * https://www.astropy.org/\n",
    "   \n",
    "   \n",
    "3- **LIGO's graviational waves**:\n",
    "   * Análise de dados de buracos negros binários. Use esse notebook para reproduzir os resultados do experimento LIGO, de buracos negros binários: https://nbviewer.jupyter.org/urls/www.gw-openscience.org/static/events/LOSC_Event_tutorial.ipynb\n",
    "   \n",
    "4- **Gerador de eventos de elétron-pósitron**:\n",
    "   * Usando equações de conservação de energia [1] para um sistema de dois corpos, faça um gerador de \"colisões\" elétron-pósitron e compare seus resultados com os obtidos pelo PYTHIA[2]\n",
    "   \n",
    "\n",
    "5- **Órbitas planetárias do sistema solar**:\n",
    "   * Usando as equações de Kepler de órbita planetária [3], determine as órbitas do sistema solar e grave-as em um gráfico e/ou animação.\n",
    "   \n",
    "\n",
    "6-  **Machine learning: reconhecendo números escritos à mão** *[tópico avançado]*\n",
    "   * Siga esse tutorial para implementar um classificador de Machine learning que reconhece números escritos a mão: https://github.com/wxs/keras-mnist-tutorial/blob/master/MNIST%20in%20Keras.ipynb\n",
    "   * https://scikit-learn.org/stable/auto_examples/classification/plot_digits_classification.html#sphx-glr-auto-examples-classification-plot-digits-classification-py\n",
    "   \n",
    "   "
   ]
  },
  {
   "cell_type": "markdown",
   "metadata": {},
   "source": [
    "## Referências:\n",
    "[1] https://arxiv.org/pdf/1011.1943.pdf e roteiro do projeto Nº2 de 2018/2 http://dfnae.fis.uerj.br/twiki/pub/DFNAE/IntroPython/projeto_colisoes_classes.pdf\n",
    "\n",
    "[2] http://home.thep.lu.se/~torbjorn/pythia82html/PythonInterface.html\n",
    "\n",
    "[3] https://en.wikipedia.org/wiki/Kepler%27s_laws_of_planetary_motion"
   ]
  }
 ],
 "metadata": {
  "kernelspec": {
   "display_name": "Python 3",
   "language": "python",
   "name": "python3"
  },
  "language_info": {
   "codemirror_mode": {
    "name": "ipython",
    "version": 3
   },
   "file_extension": ".py",
   "mimetype": "text/x-python",
   "name": "python",
   "nbconvert_exporter": "python",
   "pygments_lexer": "ipython3",
   "version": "3.6.4"
  }
 },
 "nbformat": 4,
 "nbformat_minor": 2
}
