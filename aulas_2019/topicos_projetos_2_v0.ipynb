{
 "cells": [
  {
   "cell_type": "markdown",
   "metadata": {},
   "source": [
    "# Tópicos para projetos:\n",
    "\n",
    "1- **Particle in a box with *sympy**:\n",
    "   * Energies for the Schroedinger equation in a well with a potential. Use esse notebook para aprender como usar o pacote **sympy** para obter as soluções da equação de Schroedinger com um poço de potencial. Em seguida, use o **sympy** para obter as soluções da equação de Schroedinger para o átomo de Hidrogênio.  https://nbviewer.jupyter.org/github/nicoguaro/notebooks_examples/blob/master/quantum_mechanics_simple.ipynb \n",
    "\n",
    "\n",
    "2- **Ajuste uma linha de emissão de um espectro estelar com *astropy**:\n",
    "   * Siga esse tutorial para ajustar uma linha de emissão de um espectro estelar com um modelo pré-definido e um modelo personalizado. Em seguida, use o seu próprio espectro de emissão e faça um ajuste na linha de emissão com o pacote de python **astropy**\n",
    "   * http://learn.astropy.org/rst-tutorials/User-Defined-Model.html?highlight=filtertutorials \n",
    "   * https://www.astropy.org/\n",
    "   \n",
    "   \n",
    "3- **LIGO's graviational waves**:\n",
    "   * Análise de dados de buracos negros binários. Use esse notebook para reproduzir os resultados do experimento LIGO, de buracos negros binários: https://nbviewer.jupyter.org/urls/www.gw-openscience.org/static/events/LOSC_Event_tutorial.ipynb\n",
    "   \n",
    "\n",
    "4- **Hunting the Higgs. H->ZZ->4l**:\n",
    "   * Use esse jupyter notebook para reproduzir o resultado da análise de busca pelo Bóson de Higgs decaindo em ZZ-> 4 léptons: https://github.com/cms-opendata-education/cms-jupyter-materials-english/blob/master/Exercises-with-open-data/Advanced/Hunting-the-Higgs-4leptons.ipynb\n",
    "   "
   ]
  },
  {
   "cell_type": "code",
   "execution_count": null,
   "metadata": {},
   "outputs": [],
   "source": []
  }
 ],
 "metadata": {
  "kernelspec": {
   "display_name": "Python 3",
   "language": "python",
   "name": "python3"
  },
  "language_info": {
   "codemirror_mode": {
    "name": "ipython",
    "version": 3
   },
   "file_extension": ".py",
   "mimetype": "text/x-python",
   "name": "python",
   "nbconvert_exporter": "python",
   "pygments_lexer": "ipython3",
   "version": "3.6.4"
  }
 },
 "nbformat": 4,
 "nbformat_minor": 2
}
