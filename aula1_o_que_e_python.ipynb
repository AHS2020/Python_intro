{
 "cells": [
  {
   "cell_type": "markdown",
   "metadata": {},
   "source": [
    "# O que é Ciência da Computação?\n",
    "https://undergrad.cs.umd.edu/what-computer-science\n",
    "\n",
    "Ciência da computação é o estudo de computadores a sistemas computacionais. \n",
    "\n",
    "As áreas principais de estudo em Ciência da Computação incluem inteligência artificial, sistemas computacionais, segurança, sistema de bancos de dados, linguagens de programação, etc."
   ]
  },
  {
   "cell_type": "markdown",
   "metadata": {},
   "source": [
    "# Requerimentos em computação científica\n",
    "http://github.com/jrjohansson/scientific-python-lectures\n",
    "\n",
    "**Replicação** e **reprodutibilidade** são dois pilares do método científico. Em relação a trabalho numérico (computação), atender a esses conceitos tem as seguintes implicações práticas:\n",
    "\n",
    "   * **Replicação**: Um autor de um artigo científico que envolve cálculos numéricos tem que ser capaz de rodar novamente as simulações e replicar os resultados. Outros cientistas também deveriam se capazes de realizar os mesmos cálculos e obter os mesmos resultados, dada a informação sobre os métodos usados na publicação.\n",
    "   * **Reprodutibilidade**: Os resultados obtidos através de simulações numéricas devem se reprodutíveis com uma implementação independente do método, ou usando um método diferente. \n",
    "\n",
    "**Em resumo: Um resultado científico sólido deve ser reproduzível e um estudo científico sólido deve ser replicável.**\n",
    "\n",
    "Para atingir esses objetivos, precisamos:\n",
    "\n",
    "   1. Manter e anotar exatamente qual código-fonte e versão foram usados para produzir dados e números em artigos publicados.\n",
    "   1. Certificar-se de que os códigos e anotações antigos tenham backup e sejam mantidos para referência futura.\n",
    "   1. Estar prontx para fornecer informações adicionais sobre os métodos utilizados, e talvez também sobre os códigos de simulação, para um leitor interessado que o solicite (mesmo anos após a publicação do artigo!).\n",
    "   1. O ideal é que os códigos sejam publicados on-line, para facilitar o acesso de outros cientistas interessados nos códigos.\n",
    "   \n",
    "### Ferramentas de gerenciamento de código-fonte:\n",
    "Existem várias ferramentas de gerenciamento de código-fonte. Nós indicamos o repositório online http://www.github.com"
   ]
  },
  {
   "cell_type": "markdown",
   "metadata": {},
   "source": [
    "# O que é Python?\n",
    "\n",
    "Python é uma linguagem de programação de alto nível, orientada a objetos, moderna e de propósito geral.\n",
    "\n",
    "#### Características gerais de Python:\n",
    "\n",
    "   * **linguagem simples e limpa**: código intuitivo e fácil de ler, sintaxe minimalista de fácil aprendizado, capacidade de manutenção escalável bem com o tamanho dos projetos.\n",
    "   * **linguagem expressiva**: Menos linhas de código, menos bugs, mais fáceis de manter.\n",
    "   \n",
    "#### Detalhes técnicos:\n",
    "\n",
    "   * **Digitado dinamicamente**: Não há necessidade de definir o tipo de variáveis, argumentos de função ou tipos de retorno.\n",
    "   * **Gerenciamento automático de memória**: Não é necessário alocar e desalocar explicitamente a memória para variáveis e matrizes de dados. Não há vazamentos de memória (memory leak bugs).\n",
    "   * **interpretado**: Não há necessidade de compilar o código. O interpretador Python lê e executa o código python diretamente.\n",
    "\n",
    "#### Vantagens:\n",
    "\n",
    "   * A principal vantagem é a facilidade de programação, minimizando o tempo necessário para desenvolver, *debugar* (procurar por erros no programa) e manter o código.\n",
    "   * Linguagem bem projetada que incentiva muitas boas práticas de programação:\n",
    "      * Programação modular e orientada a objetos, bom sistema para empacotamento e reutilização de código. Isso geralmente resulta em código mais transparente, sustentável e livre de bugs.\n",
    "      * Documentação totalmente integrada com o código.\n",
    "      * Uma grande biblioteca padrão e uma grande coleção de pacotes complementares.\n",
    "   * Muita documentação disponível!\n",
    "      \n",
    "#### Desvantagens:\n",
    "\n",
    "   * Como o Python é uma linguagem de programação interpretada e dinamicamente digitada, a execução do código python pode ser lenta em comparação com as linguagens de programação compiladas estaticamente, como C e Fortran."
   ]
  },
  {
   "cell_type": "markdown",
   "metadata": {},
   "source": [
    "# Por que Python?\n",
    "\n",
    "## Popularidade de Python no mundo\n",
    "últimos cinco anos (set. 2018)\n",
    "![title](pics/python_trend.png)\n",
    "\n",
    "**Python foi a linguagem de programação que mais cresceu no mundo nos últimos 5 anos (14,5%) e php foi a que mais decresceu (-6,5%)**\n",
    "\n",
    "http://pypl.github.io/PYPL.html"
   ]
  },
  {
   "cell_type": "markdown",
   "metadata": {},
   "source": [
    "# Como programar?\n",
    "http://greenteapress.com/thinkpython/html/thinkpython002.html\n",
    "\n",
    "\"A habilidade mais importante para um **cientista** (da computação) é a **resolução de problemas**. Resolução de problemas significa a capacidade de formular problemas, pensar criativamente sobre soluções e expressar uma solução de forma clara e precisa. Acontece que **o processo de aprender a programar é uma excelente oportunidade para praticar habilidades de resolução de problemas**.\n",
    "\n",
    "Em um dado nível, você estará aprendendo a programar, uma habilidade útil por si só. Em outro nível, você usará a programação como um meio para um fim. À medida que avançarmos, esse fim ficará mais claro.\""
   ]
  },
  {
   "cell_type": "markdown",
   "metadata": {},
   "source": [
    "# A linguagem de programação Python\n",
    "\n",
    "   * Python é um exemplo de uma linguagem de programação de **alto nível**; \n",
    "   \n",
    "   \n",
    "   * Exemplos de outras linguagens de alto nível: C, C ++, Perl e Java.\n",
    "   \n",
    "   \n",
    "   * Linguagens de programação de **baixo nível**: \"linguagens de máquina\" ou \"linguagens de montagem\".\n",
    "      * Posto de forma não muito rígida, os computadores só podem executar programas escritos em linguagens de baixo nível. \n",
    "      * Os programas escritos em uma linguagem de alto nível precisam ser *processados* antes de poderem ser *executados*. \n",
    "      * Esse processamento extra leva algum tempo, o que é uma pequena desvantagem das linguagens de alto nível.\n",
    "   \n",
    "#### As vantagens de um programa de alto nível:\n",
    "   \n",
    "   * É muito mais fácil de programar. \n",
    "  \n",
    "  \n",
    "   * Demora menos tempo para ser escrito, é mais curto e fácil de ler, além de ter maior probabilidade de estar correto. \n",
    "   \n",
    "   \n",
    "   * É **portátil**: pode ser executado em diferentes tipos de computadores com poucas ou nenhuma modificação.\n",
    "   \n",
    "   \n",
    "   * Programas de **baixo nível** podem ser executados em apenas **um tipo de computador** e precisam ser reescritos para serem executados em outro.\n",
    "   \n",
    "   \n",
    "   * Por conta dessas vantagens quase todos os programas são escritos em linguagem de alto nível, a não ser aplicações específicas que necessitam linguagem de baixo nível."
   ]
  },
  {
   "cell_type": "markdown",
   "metadata": {},
   "source": [
    "### Interpretadores e compiladores\n",
    "\n",
    "São dois tipos de programas que processam linguagem de alto nível em linguagem de baixo nível. \n",
    "\n",
    "#### Interpretador:\n",
    "\n",
    "   * Lê um programa de alto nível e o executa: faz o que o programa diz. \n",
    "   \n",
    "   \n",
    "   * Processa o programa um pouco por vez, lendo linhas alternadamente e realizando cálculos.\n",
    "   \n",
    "   <img src=\"pics/python_interpretor.png\" style=\"max-width:40%; width: 40%\">\n",
    "   \n",
    "#### Compilador:\n",
    "   \n",
    "   * Lê o programa por completo e traduz antes de executar. \n",
    "   \n",
    "   \n",
    "   * O programa de alto nível é chamado de **código-fonte** e o programa traduzido é chamado de **código-objeto** ou **executável**. \n",
    "   \n",
    "   \n",
    "   * Depois que um programa é compilado, você pode executá-lo repetidamente sem mais traduções.\n",
    "   \n",
    "   <img src=\"pics/python_compiler.png\" style=\"max-width:30%; width: 30%\">"
   ]
  },
  {
   "cell_type": "markdown",
   "metadata": {},
   "source": [
    "# Python: uma linguagem interpretada\n",
    "\n",
    "#### Interpretador de Python\n",
    "\n",
    "   * modo imediato (prompt)\n",
    "   * modo script\n",
    "\n",
    "### Interpretador de Python Modo Prompt\n",
    "\n",
    "   * abrir um terminal de Linux (com Python previamente instalado)\n",
    "   * python\n",
    "   * para sair: ctrl + D\n",
    "   * Para Windows, você pode usar o PyScripter para acessar o prompt ou rodar um script.\n",
    "   \n",
    "   <img src=\"pics/terminal.png\" style=\"max-width:50%; width: 50%\">   "
   ]
  },
  {
   "cell_type": "code",
   "execution_count": 8,
   "metadata": {},
   "outputs": [
    {
     "data": {
      "text/plain": [
       "4"
      ]
     },
     "execution_count": 8,
     "metadata": {},
     "output_type": "execute_result"
    }
   ],
   "source": [
    "2+2"
   ]
  },
  {
   "cell_type": "markdown",
   "metadata": {},
   "source": [
    "## O que é um programa?\n",
    "\n",
    "   * Um programa é uma seqüência de instruções que especifica como realizar uma computação (tarefa). \n",
    "\n",
    "\n",
    "   * **entrada**:\n",
    "      * dados do teclado, de um arquivo ou de algum outro dispositivo.\n",
    "\n",
    "\n",
    "   * **saída**:\n",
    "      * Exibe dados na tela ou envia dados para um arquivo ou outro dispositivo.\n",
    "   \n",
    "   \n",
    "   * **matemática**:\n",
    "      * Realiza operações matemáticas básicas como adição e multiplicação.\n",
    "   \n",
    "   \n",
    "   * **execução condicional**:\n",
    "      * Verifica algumas condições e executa o código apropriado.\n",
    "   \n",
    "   \n",
    "   * **repetição**:\n",
    "      * Realiza algumas ações repetidamente, geralmente com alguma variação.\n",
    " \n",
    " \n",
    " \n",
    "**Você pode pensar em programação como o processo de dividir uma tarefa grande e complexa em subtarefas cada vez menores, até que as subtarefas sejam simples o suficiente para serem executadas com uma dessas instruções básicas (algoritmos).**"
   ]
  },
  {
   "cell_type": "markdown",
   "metadata": {},
   "source": [
    "## O que é Debugar?\n",
    "\n",
    "A programação é propensa a erros. \n",
    "\n",
    "\n",
    "Os erros de programação são chamados de **bugs** e o processo de rastreá-los é chamado de **debugar**.\n",
    "\n",
    "\n",
    "Três tipos de erros podem ocorrer em um programa: \n",
    "\n",
    "   * erros de sintaxe\n",
    "   * erros de execução\n",
    "   * erros semânticos. \n",
    "   \n",
    "É útil distinguir entre eles para rastreá-los mais rapidamente."
   ]
  },
  {
   "cell_type": "markdown",
   "metadata": {},
   "source": [
    "### Erros de Sintaxe\n",
    "\n",
    "**Sintaxe**: estrutura do programa e regras de escrita do programa em Python. \n",
    "\n",
    "Exemplo: Soma de 2 + 8"
   ]
  },
  {
   "cell_type": "code",
   "execution_count": 9,
   "metadata": {},
   "outputs": [
    {
     "data": {
      "text/plain": [
       "10"
      ]
     },
     "execution_count": 9,
     "metadata": {},
     "output_type": "execute_result"
    }
   ],
   "source": [
    "#sintaxe correta:\n",
    "(2 + 8)"
   ]
  },
  {
   "cell_type": "code",
   "execution_count": 10,
   "metadata": {},
   "outputs": [
    {
     "ename": "SyntaxError",
     "evalue": "unexpected EOF while parsing (<ipython-input-10-307d6186dc77>, line 2)",
     "output_type": "error",
     "traceback": [
      "\u001b[0;36m  File \u001b[0;32m\"<ipython-input-10-307d6186dc77>\"\u001b[0;36m, line \u001b[0;32m2\u001b[0m\n\u001b[0;31m    (2 + 8\u001b[0m\n\u001b[0m          ^\u001b[0m\n\u001b[0;31mSyntaxError\u001b[0m\u001b[0;31m:\u001b[0m unexpected EOF while parsing\n"
     ]
    }
   ],
   "source": [
    "#sintaxe incorreta\n",
    "(2 + 8"
   ]
  },
  {
   "cell_type": "markdown",
   "metadata": {},
   "source": [
    "**Quando há erro de sintaxe, o interpretador pára imediatamente e exibe uma mensagem de erro**\n",
    "\n",
    "Todo programador em algum momento já gastou muito tempo rastreando um erro de sintaxe. Faz parte do aprendizado. :-)"
   ]
  },
  {
   "cell_type": "markdown",
   "metadata": {},
   "source": [
    "### Erros de execução\n",
    "\n",
    "Esse tipo de erro só aparece depois de iniciada a execução do programa. \n",
    "\n",
    "\n",
    "Também são chamados de **exceções** porque geralmente indicam que algo excepcional (e ruim) aconteceu.\n",
    "\n",
    "Erros de execução são raros nos programas simples."
   ]
  },
  {
   "cell_type": "markdown",
   "metadata": {},
   "source": [
    "### Erros de Semântica\n",
    "\n",
    "   * Quando o programa é executado sem erros, porém não gera a saída esperada.\n",
    "   \n",
    "   \n",
    "   * Quando o programa que você escreveu não é o programa que você queria escrever. \n",
    "   \n",
    "   \n",
    "   * O **significado** do programa (sua semântica) está errado. "
   ]
  },
  {
   "cell_type": "markdown",
   "metadata": {},
   "source": [
    "## Depuração Experimental (Debugar!)\n",
    "\n",
    "   * Procurar por erros no seu programa! É como um trabalho de detetive!\n",
    "   \n",
    "   \n",
    "   * Criar estratégias de debugging é ***fundamental*** para todo programador.\n",
    "   \n",
    "   \n",
    "   * Teremos muitas oportunidades de debugar. :-)\n",
    "   \n",
    "\n",
    "   * No livro 2. indicado nas referências dessa aula, têm excelentes observações sobre debugging. Leiam! "
   ]
  },
  {
   "cell_type": "markdown",
   "metadata": {},
   "source": [
    "# Exercícios\n",
    "\n",
    "### Exercício 1:\n",
    "Escreva na tela do modo prompt: \"mundo, mundo, vasto mundo\""
   ]
  },
  {
   "cell_type": "code",
   "execution_count": 11,
   "metadata": {
    "scrolled": true
   },
   "outputs": [
    {
     "name": "stdout",
     "output_type": "stream",
     "text": [
      "mundo, mundo, vasto mundo\n"
     ]
    }
   ],
   "source": [
    "print('mundo, mundo, vasto mundo')"
   ]
  },
  {
   "cell_type": "markdown",
   "metadata": {},
   "source": [
    "### Exercício 2:\n",
    "Imprima na tela a documentação da função *print*"
   ]
  },
  {
   "cell_type": "code",
   "execution_count": 12,
   "metadata": {
    "scrolled": true
   },
   "outputs": [
    {
     "name": "stdout",
     "output_type": "stream",
     "text": [
      "Help on built-in function print in module builtins:\n",
      "\n",
      "print(...)\n",
      "    print(value, ..., sep=' ', end='\\n', file=sys.stdout, flush=False)\n",
      "    \n",
      "    Prints the values to a stream, or to sys.stdout by default.\n",
      "    Optional keyword arguments:\n",
      "    file:  a file-like object (stream); defaults to the current sys.stdout.\n",
      "    sep:   string inserted between values, default a space.\n",
      "    end:   string appended after the last value, default a newline.\n",
      "    flush: whether to forcibly flush the stream.\n",
      "\n"
     ]
    }
   ],
   "source": [
    "help('print')"
   ]
  },
  {
   "cell_type": "markdown",
   "metadata": {},
   "source": [
    "### Exercício 3:\n",
    "Inicie o interpretador Python e use-o como uma calculadora. A sintaxe do Python para operações matemáticas é quase igual à notação matemática padrão: \n",
    "* adição: + \n",
    "* subtração: - \n",
    "* divisão: /\n",
    "* multiplicação: *\n",
    "   \n",
    "   \n",
    "***Se você fizer uma corrida de 10 quilômetros em 43 minutos e 30 segundos, qual será seu tempo médio por milha? Qual é a sua velocidade média em milhas por hora? (Dica: há 1,61 quilômetros em uma milha).***"
   ]
  },
  {
   "cell_type": "markdown",
   "metadata": {},
   "source": [
    "## Referências\n",
    "\n",
    "1. http://github.com/jrjohansson/scientific-python-lectures\n",
    "1. http://greenteapress.com/thinkpython/html/index.html\n",
    "1. http://python.org/"
   ]
  }
 ],
 "metadata": {
  "kernelspec": {
   "display_name": "Python 3",
   "language": "python",
   "name": "python3"
  },
  "language_info": {
   "codemirror_mode": {
    "name": "ipython",
    "version": 3
   },
   "file_extension": ".py",
   "mimetype": "text/x-python",
   "name": "python",
   "nbconvert_exporter": "python",
   "pygments_lexer": "ipython3",
   "version": "3.6.4"
  }
 },
 "nbformat": 4,
 "nbformat_minor": 2
}
